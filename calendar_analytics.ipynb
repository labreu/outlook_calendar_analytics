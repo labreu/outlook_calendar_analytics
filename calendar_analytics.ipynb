{
 "cells": [
  {
   "cell_type": "code",
   "execution_count": null,
   "metadata": {},
   "outputs": [],
   "source": [
    "import win32com.client\n",
    "import pandas as pd\n",
    "\n",
    "# Initialize Outlook application\n",
    "outlook = win32com.client.Dispatch(\"Outlook.Application\")\n",
    "namespace = outlook.GetNamespace(\"MAPI\")\n",
    "\n",
    "# Get the calendar folder\n",
    "calendar_folder = namespace.GetDefaultFolder(9)  # 9 refers to the calendar folder\n",
    "\n",
    "# Get all appointments\n",
    "appointments = calendar_folder.Items\n",
    "appointments.IncludeRecurrences = True\n",
    "\n",
    "\n",
    "# Create a list to store meeting details\n",
    "meetings = []\n",
    "\n",
    "# Iterate through the appointments and extract details\n",
    "for appointment in appointments:\n",
    "    meeting = {\n",
    "        \"Subject\": appointment.Subject,\n",
    "        \"Start\": appointment.Start,\n",
    "        \"End\": appointment.End,\n",
    "        \"Location\": appointment.Location,\n",
    "        \"Organizer\": appointment.Organizer,\n",
    "        \"Required Attendees\": appointment.RequiredAttendees,\n",
    "        \"Optional Attendees\": appointment.OptionalAttendees,\n",
    "        \"Body\": appointment.Body,\n",
    "        \"Type\": appointment.Class\n",
    "    }\n",
    "    meetings.append(meeting)\n",
    "\n"
   ]
  },
  {
   "cell_type": "code",
   "execution_count": null,
   "metadata": {},
   "outputs": [],
   "source": [
    "# Create a DataFrame from the list of meetings\n",
    "df_meetings = pd.DataFrame(meetings)"
   ]
  },
  {
   "cell_type": "code",
   "execution_count": 4,
   "metadata": {},
   "outputs": [],
   "source": [
    "# Update the Start and End fields with the .date() function\n",
    "meetings = [{**meeting, 'Start': meeting['Start'].date(), 'End': meeting['End'].date()} for meeting in meetings]"
   ]
  },
  {
   "cell_type": "code",
   "execution_count": 5,
   "metadata": {},
   "outputs": [],
   "source": [
    "df_meetings = pd.DataFrame(meetings)"
   ]
  },
  {
   "cell_type": "code",
   "execution_count": 6,
   "metadata": {},
   "outputs": [],
   "source": [
    "df_meetings['Start'] = pd.to_datetime(df_meetings['Start'])"
   ]
  },
  {
   "cell_type": "code",
   "execution_count": null,
   "metadata": {},
   "outputs": [],
   "source": [
    "df_meetings.to_excel('meetings.xlsx', index=False)"
   ]
  },
  {
   "cell_type": "code",
   "execution_count": 59,
   "metadata": {},
   "outputs": [
    {
     "data": {
      "text/plain": [
       "Start\n",
       "2024-01-07     46.875\n",
       "2024-01-14     59.375\n",
       "2024-01-21     75.000\n",
       "2024-01-28     46.875\n",
       "2024-02-04     71.875\n",
       "2024-02-11     75.000\n",
       "2024-02-18     28.125\n",
       "2024-02-25     46.875\n",
       "2024-03-03     37.500\n",
       "2024-03-10     59.375\n",
       "2024-03-17     78.125\n",
       "2024-03-24     62.500\n",
       "2024-03-31     65.625\n",
       "2024-04-07     75.000\n",
       "2024-04-14     50.000\n",
       "2024-04-21     78.125\n",
       "2024-04-28    100.000\n",
       "2024-05-05     75.000\n",
       "2024-05-12     75.000\n",
       "2024-05-19     59.375\n",
       "2024-05-26     65.625\n",
       "2024-06-02     53.125\n",
       "2024-06-09    100.000\n",
       "2024-06-16     62.500\n",
       "2024-06-23     65.625\n",
       "2024-06-30     34.375\n",
       "2024-07-07     15.625\n",
       "2024-07-14     12.500\n",
       "2024-07-21      3.125\n",
       "2024-07-28     18.750\n",
       "2024-08-04     46.875\n",
       "2024-08-11     46.875\n",
       "2024-08-18     78.125\n",
       "2024-08-25     50.000\n",
       "2024-09-01     50.000\n",
       "2024-09-08     50.000\n",
       "2024-09-15     81.250\n",
       "2024-09-22     59.375\n",
       "2024-09-29     62.500\n",
       "2024-10-06     81.250\n",
       "2024-10-13     31.250\n",
       "2024-10-20     37.500\n",
       "2024-10-27     43.750\n",
       "2024-11-03     53.125\n",
       "2024-11-10     21.875\n",
       "2024-11-17     43.750\n",
       "2024-11-24     25.000\n",
       "2024-12-01     37.500\n",
       "2024-12-08     43.750\n",
       "2024-12-15     34.375\n",
       "2024-12-22     37.500\n",
       "Freq: W-SUN, dtype: float64"
      ]
     },
     "execution_count": 59,
     "metadata": {},
     "output_type": "execute_result"
    }
   ],
   "source": [
    "import matplotlib.pyplot as plt\n",
    "\n",
    "ts = df_meetings[\n",
    "        (df_meetings.Start >= '2024-01-01') & \n",
    "        (df_meetings.Start < '2024-12-20')]\\\n",
    "    .set_index('Start')\\\n",
    "    .resample('W')\\\n",
    "    .size()\n",
    "\n",
    "ts = ts/ts.max() * 100\n",
    "ts"
   ]
  },
  {
   "cell_type": "code",
   "execution_count": null,
   "metadata": {},
   "outputs": [],
   "source": []
  },
  {
   "cell_type": "code",
   "execution_count": null,
   "metadata": {},
   "outputs": [],
   "source": []
  }
 ],
 "metadata": {
  "kernelspec": {
   "display_name": "pymc_env",
   "language": "python",
   "name": "python3"
  },
  "language_info": {
   "codemirror_mode": {
    "name": "ipython",
    "version": 3
   },
   "file_extension": ".py",
   "mimetype": "text/x-python",
   "name": "python",
   "nbconvert_exporter": "python",
   "pygments_lexer": "ipython3",
   "version": "3.12.5"
  }
 },
 "nbformat": 4,
 "nbformat_minor": 2
}
